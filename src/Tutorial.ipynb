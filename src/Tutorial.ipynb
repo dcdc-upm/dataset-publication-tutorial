{
 "cells": [
  {
   "cell_type": "markdown",
   "id": "4d8d8abc-d6b5-4174-83c9-e2b8a8006826",
   "metadata": {},
   "source": [
    "# Publicación de datos siguiendo buenas prácticas"
   ]
  },
  {
   "cell_type": "markdown",
   "id": "ec72cae9-a287-4304-a5a3-ae728c59170f",
   "metadata": {},
   "source": [
    "En este tutorial, exploraremos los principales pasos necesarios para publicar un conjunto de datos en acceso abierto. Utilizaremos un conjunto de datos existente, el cual transformaremos para su publicación en un repositorio digital. Además de aprender sobre el proceso de publicación, también abordaremos las buenas prácticas que deben seguirse durante todo el procedimiento. Esto incluye: la correcta documentación del recurso, la inclusión de metadatos adecuados y la publicación del código necesario para replicar los experimentos realizados.\n"
   ]
  },
  {
   "cell_type": "code",
   "execution_count": null,
   "id": "c5346670-97fd-4a4b-b774-5cda4a9d9771",
   "metadata": {},
   "outputs": [],
   "source": [
    "# Importamos todas las librerias necesarias para este notebook\n",
    "import pandas as pd\n",
    "from datasets import Dataset"
   ]
  },
  {
   "cell_type": "markdown",
   "id": "26c87e5a-c794-44fa-84d1-943aa34dab4e",
   "metadata": {
    "tags": []
   },
   "source": [
    "## Filtrado del conjunto de datos"
   ]
  },
  {
   "cell_type": "markdown",
   "id": "42fcceb8-cff4-466c-8a3c-6b1702772b39",
   "metadata": {},
   "source": [
    "Descargamos el conjunto de datos del año 2024 de [Accidentes de tráfico de la ciudad de Madrid](https://datos.madrid.es/portal/site/egob/menuitem.c05c1f754a33a9fbe4b2e4b284f1a5a0/?vgnextoid=7c2843010d9c3610VgnVCM2000001f4a900aRCRD&vgnextchannel=374512b9ace9f310VgnVCM100000171f5a0aRCRD&vgnextfmt=default) publicado por el Ayuntamiento de Madrid y lo guardamos en la carpeta `data/`."
   ]
  },
  {
   "cell_type": "code",
   "execution_count": null,
   "id": "2f0ed515-c4b0-4a8a-bca9-668a85a72eb7",
   "metadata": {},
   "outputs": [],
   "source": [
    "original_dataset_path= \"/home/jovyan/dataset-publication-tutorial/data/2024_Accidentalidad.csv\"\n",
    "original_df= pd.read_csv(original_dataset_path, delimiter=';')\n",
    "original_df.head(n=3)"
   ]
  },
  {
   "cell_type": "markdown",
   "id": "8971a24b-4e75-48e1-b8ba-95514194cb13",
   "metadata": {},
   "source": [
    "Como para este ejemplo queremos transformar este dataset en un dataset de accidentes mortales vamos a analizar la [documentación](https://datos.madrid.es/FWProjects/egob/Catalogo/Seguridad/Ficheros/Estructura_ConjuntoDatos_Accidentesv2.pdf) que se adjunta con este conjunto de datos. En esta pone que los accidentes que han tenido como consecuencia el fallecimiento del accidentado son aquellos en los que el campo `lesividad` tiene el código `04`."
   ]
  },
  {
   "cell_type": "code",
   "execution_count": null,
   "id": "18be5f91-39c8-4cd1-915b-0ad51373cb8f",
   "metadata": {},
   "outputs": [],
   "source": [
    "fallecidos_df= original_df[original_df[\"cod_lesividad\"]==4]"
   ]
  },
  {
   "cell_type": "markdown",
   "id": "3f8349b3-a48f-4e99-9783-dfb60cc248eb",
   "metadata": {},
   "source": [
    "Para mantener la relación de nuestro dataset con el original de forma transparente vamos a mantener la referencia al índice de fila en el dataset original. Esta decisión es personal y no es necesaria."
   ]
  },
  {
   "cell_type": "code",
   "execution_count": null,
   "id": "9484505e-137e-461b-a02b-2aa5c50f82f7",
   "metadata": {},
   "outputs": [],
   "source": [
    "fallecidos_df= fallecidos_df.reset_index().rename(columns={'index': 'original_row_index'})\n",
    "fallecidos_df.to_csv(\"2024_Mortalidad.csv\", index=False)"
   ]
  },
  {
   "cell_type": "markdown",
   "id": "969b1b8b-e1d0-4170-97ae-87ecb2e071a0",
   "metadata": {},
   "source": [
    "El resultado de este filtro es el siguiente:"
   ]
  },
  {
   "cell_type": "code",
   "execution_count": null,
   "id": "9367ba40-f1d9-4dbf-a4d7-4f916520a211",
   "metadata": {},
   "outputs": [],
   "source": [
    "fallecidos_df.head(n=3)"
   ]
  },
  {
   "cell_type": "markdown",
   "id": "8ddbf2cd-8e49-4ca1-a2db-362317126d57",
   "metadata": {
    "tags": []
   },
   "source": [
    "## Documentación del conjunto de datos"
   ]
  },
  {
   "cell_type": "markdown",
   "id": "8b9a84a7-7999-458d-81f0-75f998177a65",
   "metadata": {},
   "source": [
    "El principal aspecto a tener en cuenta para publicar el conjunto de datos es crear la documentación (datasheet). Por lo general, la mayoría de plataformas admiten documentación en formato markdown, por lo que se puede redactar la documentación antes de decidir el repositorio digital. Para esta tarea, nos esforzaremos en seguir los principios FAIR y las indicaciones de los siguientes trabajos:\n",
    "\n",
    "- *Gebru, Timnit, Jamie Morgenstern, Briana Vecchione, et al. “Datasheets for Datasets.” Commun. ACM 64, no. 12 (2021): 86–92. https://doi.org/10.1145/3458723.*\n",
    "- *Shaina Raza, Shardul Ghuge, Chen Ding, Elham Dolatabadi, Deval Pandya; FAIR Enough: Develop and Assess a FAIR-Compliant Dataset for Large Language Model Training?. Data Intelligence 2024; 6 (2): 559–585. doi: https://doi.org/10.1162/dint_a_00255*\n",
    "- *Wu, Y., Ajmani, L., Longpre, S., & Li, H. (2025). A systematic review of NeurIPS dataset management practices. Proceedings of the 38th International Conference on Neural Information Processing Systems. Presented at the Vancouver, BC, Canada. Red Hook, NY, USA: Curran Associates Inc. https://dl.acm.org/doi/10.5555/3737916.3738948*\n",
    "\n"
   ]
  },
  {
   "cell_type": "markdown",
   "id": "9d536c0c-3685-4b92-8191-3ea4c35418f3",
   "metadata": {},
   "source": [
    "---"
   ]
  },
  {
   "cell_type": "code",
   "execution_count": null,
   "id": "6687c24a-2d91-45f7-9118-7064b69d7160",
   "metadata": {
    "jp-MarkdownHeadingCollapsed": true,
    "tags": []
   },
   "outputs": [],
   "source": [
    "\"\"\"\n",
    "# Fatal traffic accidents in the city of Madrid during 2024\n",
    "\n",
    "## Dataset Summary\n",
    "\n",
    "This dataset contains fatal traffic accidents in the city of Madrid during 2024. It is derived from the [original dataset](https://datos.madrid.es/portal/site/egob/menuitem.c05c1f754a33a9fbe4b2e4b284f1a5a0/?vgnextoid=7c2843010d9c3610VgnVCM2000001f4a900aRCRD&vgnextchannel=374512b9ace9f310VgnVCM100000171f5a0aRCRD&vgnextfmt=default) published by the City Council of Madrid, selecting only those accidents in which the accident resulted in the death of the person involved.\n",
    "\n",
    "The motivation behind this dataset is to facilitate the analysis of black spots (high-risk accident areas) in Madrid and to contribute to reducing road fatalities.\n",
    "\n",
    "This resource is also part of a tutorial designed to learn how to publish an open dataset, following best practices for documentation, metadata, and reproducibility. It was created by Ibai Guillén-Pacho and supported by the Predoctoral Grant (PIPF-2022/COM-25947) of the Consejería de Educación, Ciencia y Universidades de la Comunidad de Madrid, Spain.\n",
    "\n",
    "## How to Use\n",
    "\n",
    "The tutorial materials explaining the dataset publication workflow are available at the following [repository](https://github.com/iguillenp/dataset-publication-tutorial). \n",
    "\n",
    "The dataset is distributed as a CSV file with semicolon (`;`) as the field separator. It can be processed with any software that supports CSV format, such as spreadsheet applications (Excel, LibreOffice, Google Sheets) or programming environments (Python, R, etc.).\n",
    "\n",
    "``` python\n",
    "# Python Example:\n",
    "\n",
    "import pandas as pd\n",
    "\n",
    "# Load the dataset (semicolon-delimited CSV)\n",
    "df = pd.read_csv(\"2024_Accidentalidad.csv\", delimiter=\";\")\n",
    "\n",
    "# Inspect the first records\n",
    "print(df.head())\n",
    "```\n",
    "\n",
    "**PENDING**\n",
    "\n",
    "## Dataset Details\n",
    "This section provides a detailed description of the dataset, including a preview, its structure, the collection process, the transformations applied, and the maintenance policy. \n",
    "\n",
    "### Data Preview\n",
    "|   original_row_index | num_expediente   | fecha      | hora     | localizacion                                  | numero   |   cod_distrito | distrito           | tipo_accidente        | estado_meteorológico   | tipo_vehiculo           | tipo_persona   | rango_edad      | sexo   |   cod_lesividad | lesividad          |   coordenada_x_utm |   coordenada_y_utm | positiva_alcohol   |   positiva_droga |\n",
    "|---------------------:|:-----------------|:-----------|:---------|:----------------------------------------------|:---------|---------------:|:-------------------|:----------------------|:-----------------------|:------------------------|:---------------|:----------------|:-------|----------------:|:-------------------|-------------------:|-------------------:|:-------------------|-----------------:|\n",
    "|                  487 | 2024S000313      | 05/01/2024 | 12:20:00 | AVDA. SAN DIEGO / CALL. PUERTO DE LA BONAIGUA | 122      |             13 | PUENTE DE VALLECAS | Atropello a persona   | Despejado              | Furgoneta               | Peatón         | Más de 74 años  | Hombre |               4 | Fallecido 24 horas |             443449 |        4.47073e+06 | N                  |              nan |\n",
    "|                 3329 | 2024S002968      | 27/01/2024 | 2:01:00  | AUTOV. M-30, TÚNEL BYPASS 11XC98              | 11XC98   |              2 | ARGANZUELA         | Solo salida de la vía | Despejado              | Motocicleta hasta 125cc | Conductor      | De 25 a 29 años | Hombre |               4 | Fallecido 24 horas |             442010 |        4.47118e+06 | N                  |              nan |\n",
    "|                 4100 | 2024S003750      | 02/02/2024 | 13:00:00 | AVDA. REYES CATOLICOS, 1                      | 1        |              9 | MONCLOA-ARAVACA    | Atropello a persona   | Despejado              | Turismo                 | Peatón         | Más de 74 años  | Hombre |               4 | Fallecido 24 horas |             438905 |        4.47655e+06 | N                  |              nan |\n",
    "\n",
    "### Data Structure\n",
    "The dataset structure is specified in the [original dataset documentation](https://datos.madrid.es/FWProjects/egob/Catalogo/Seguridad/Ficheros/Estructura_ConjuntoDatos_Accidentesv2.pdf). However, we include here a translated version of the original documentation to facilitate a better understanding of the dataset content. In addition, we have added the field `original_row_index`, which preserves the row index from the original dataset, allowing users to trace each filtered record back to its source.\n",
    "\n",
    "**IMPORTANT:** The file includes one record per person involved in the accident (drivers, passengers, pedestrians, witnesses, etc.).\n",
    "\n",
    "\n",
    "| Nº | Column Name            | Description                                                                 | Expected Values |\n",
    "|----|------------------------|-----------------------------------------------------------------------------|-----------------|\n",
    "| 0  | original_row_index     | Index of the row in the original dataset, useful to trace records back      | Number          |\n",
    "| 1  | num_expediente         | AAAASNNNNNN, where: <br>• AAAA = accident year <br>• S = accident record    | Text            |\n",
    "| 2  | fecha                  | Date in format dd/mm/yyyy                                                   | Date            |\n",
    "| 3  | hora                   | Time expressed in 1-hour ranges                                             | Time            |\n",
    "| 4  | localizacion           | Street 1 – Street 2 (intersection) or a single street                       | Text            |\n",
    "| 5  | numero                 | Street number, when applicable                                              | Number          |\n",
    "| 6  | cod_distrito           | District code                                                               | Number          |\n",
    "| 7  | distrito               | District name                                                               | Text            |\n",
    "| 8  | tipo_accidente*        | Type of accident (see typology below)                                       | Text            |\n",
    "| 9  | estado_meteorologico   | Weather conditions description                                              | Text            |\n",
    "| 10 | tipo_vehiculo          | Type of vehicle involved                                                    | Text            |\n",
    "| 11 | tipo_persona           | Type of person involved                                                     | Text            |\n",
    "| 12 | rango_edad             | Age range of affected person                                                | Text            |\n",
    "| 13 | sexo                   | Gender: male, female, or not assigned                                       | Text            |\n",
    "| 14 | cod_lesividad*         | Severity code (see typology below)                                          | Number          |\n",
    "| 15 | lesividad              | Description of severity                                                     | Text            |\n",
    "| 16 | coordenada_x_utm       | X coordinate (UTM projection)                                               | Number          |\n",
    "| 17 | coordenada_y_utm       | Y coordinate (UTM projection)                                               | Number          |\n",
    "| 18 | positiva_alcohol       | Alcohol test result: N (No) or S (Yes)                                      | N / S           |\n",
    "| 19 | positiva_droga         | Drug test result: NULL or 1                                                 | NULL / 1        |\n",
    "\n",
    "\n",
    "**TYPES OF ACCIDENTS**\n",
    "- Double collision: Traffic accident involving two moving vehicles (head-on, head-side, or side collision).\n",
    "- Multiple collision: Traffic accident involving more than two moving vehicles.\n",
    "- Rear-end collision: Accident occurring when a moving or stopped vehicle (due to traffic conditions) is struck from behind by another vehicle.\n",
    "- Collision with obstacle or road element: Accident occurring between a moving vehicle with a driver and a stationary object occupying the roadway or its surroundings (e.g., parked vehicle, tree, lamppost).\n",
    "- Pedestrian run-over: Accident involving a vehicle and a pedestrian occupying the roadway or walking on sidewalks, crossings, or other areas of the public road not intended for vehicle traffic.\n",
    "- Rollover: Accident involving a vehicle with more than two wheels that, for some reason, loses tire contact with the road and ends up on its side or roof.\n",
    "- Fall: Includes all falls related to traffic circumstances (motorcycle, moped, bicycle, bus passenger, etc.).\n",
    "- Other causes: Includes accidents such as animal run-over, cliff fall, running off the road, and others.\n",
    "\n",
    "**SEVERITY**\n",
    "- 01: Emergency care without subsequent hospitalization – Minor\n",
    "- 02: Hospitalization ≤ 24 hours – Minor\n",
    "- 03: Hospitalization > 24 hours – Serious\n",
    "- 04: Deceased within 24 hours – Fatal\n",
    "- 05: Outpatient medical care afterwards – Minor\n",
    "- 06: Immediate medical care in a health center or mutual insurance – Minor\n",
    "- 07: Medical care only at the accident site – Minor\n",
    "- 14: No medical assistance\n",
    "- 77: Unknown\n",
    "- Blank: No medical assistance\n",
    "\n",
    "### Data Collection\n",
    "The dataset is derived from the official [2024 traffic accident records](https://datos.madrid.es/portal/site/egob/menuitem.c05c1f754a33a9fbe4b2e4b284f1a5a0/?vgnextoid=7c2843010d9c3610VgnVCM2000001f4a900aRCRD&vgnextchannel=374512b9ace9f310VgnVCM100000171f5a0aRCRD&vgnextfmt=default) published by the City Council of Madrid.\n",
    "\n",
    "### Data Processing\n",
    "From the original dataset, we extracted only the records corresponding to fatal accidents, defined as those in which the variable `lesividad` has the code `04`. The transformed dataset is stored in CSV format, preserving the same structure and columns as the original file, but containing only a reduced subset of cases that meet this criterion. The scripts employed for this processing are available in the [repository](https://github.com/iguillenp/dataset-publication-tutorial).\n",
    "\n",
    "### Data Maintenance\n",
    "The original dataset is maintained and periodically updated by the City Council of Madrid. In contrast, the transformed dataset presented here is designed for tutorial purposes, maintained by the associated teaching team. No further updates are planned beyond potential revisions for new versions of the tutorial. Users interested in updated traffic accident data should always refer to the [City of Madrid Open Data Portal](https://datos.madrid.es).\n",
    "\n",
    "## License\n",
    "The dataset is distributed under the license terms of the [City of Madrid Open Data Portal](https://datos.madrid.es/egob/catalogo/aviso-legal).\n",
    "\n",
    "The tutorial materials (including documentation, code, and instructions provided in this repository) are distributed under the Creative Commons Attribution-NonCommercial 4.0 International ([CC BY-NC 4.0](https://creativecommons.org/licenses/by-nc/4.0/legalcode.en)) license.\n",
    "\n",
    "## Citation\n",
    "Original dataset: *Ayuntamiento de Madrid. Accidentes de tráfico en la ciudad de Madrid (2024). Portal de Datos Abiertos. https://datos.madrid.es/portal/site/egob*\n",
    "\n",
    "Transformed dataset: *Guillén-Pacho I. (2025). Fatal Traffic Accidents in Madrid 2024.**PENDING***\n",
    "\n",
    "## Acknowledgements\n",
    "This work is supported by the Predoctoral Grant (PIPF-2022/COM-25947) of the Consejería de Educación, Ciencia y Universidades de la Comunidad de Madrid, Spain.\n",
    "\"\"\"\n"
   ]
  },
  {
   "cell_type": "markdown",
   "id": "d5625f5d-904f-4322-b10d-9f2c7f64a71e",
   "metadata": {},
   "source": [
    "---"
   ]
  },
  {
   "cell_type": "markdown",
   "id": "bfe2ec6b-f260-4c66-bcb9-37ca01a36503",
   "metadata": {},
   "source": [
    "## Publicación del conjunto de datos"
   ]
  },
  {
   "cell_type": "markdown",
   "id": "a97b103e-db4b-42b9-b059-4e2b007d3054",
   "metadata": {},
   "source": [
    "### Opción 1: Zenodo"
   ]
  },
  {
   "cell_type": "markdown",
   "id": "2261bff5-2ff7-4498-b211-94b6ae0bcf41",
   "metadata": {},
   "source": [
    "Para esta opción subiremos el dataset en algún formato reconocido como csv o xlsx. Además, añadiremos todos los metadatos posibles y modificaremos el formato del datasheet para que se adapte correctamente a la plataforma. El resultado final está publicado en: https://doi.org/10.5281/zenodo.17054802"
   ]
  },
  {
   "cell_type": "markdown",
   "id": "a34aaa94-0eaf-41ea-985a-aa93ef726eda",
   "metadata": {},
   "source": [
    "---"
   ]
  },
  {
   "cell_type": "markdown",
   "id": "0f93ecfc-cc7e-493a-b441-47b046501930",
   "metadata": {},
   "source": [
    "### Opción 2: Kaggle"
   ]
  },
  {
   "cell_type": "markdown",
   "id": "c0acbe78-f113-4152-9951-e2929ef181ca",
   "metadata": {},
   "source": [
    "Para esta opción subiremos el dataset en algún formato reconocido como csv o xlsx. Además, añadiremos todos los metadatos posibles y modificaremos el formato del datasheet para que se adapte correctamente a la plataforma. El resultado final está publicado en: https://www.kaggle.com/datasets/ibaiguillenpacho/fatal-traffic-accidents-in-the-city-of-madrid-2024/"
   ]
  },
  {
   "cell_type": "markdown",
   "id": "7f7e7886-978d-4cf4-8e75-cb8abbdc96c6",
   "metadata": {},
   "source": [
    "---"
   ]
  },
  {
   "cell_type": "markdown",
   "id": "3c460ec8-28b5-48cf-94f5-ad777f6a730b",
   "metadata": {
    "tags": []
   },
   "source": [
    "### Opción 3: HuggingFace"
   ]
  },
  {
   "cell_type": "markdown",
   "id": "e061617e-01fc-43ad-a89b-5d5fdea915c6",
   "metadata": {},
   "source": [
    "Para esta opción subiremos el dataset mediante código, para lo cual hay que transformarlo a un formato Dataset particular. Para mostrar la particularidad de HuggingFace de subir diferentes configuraciones y splits vamos a subir dos configuraciones y tres splits de forma artificial. Para las configuraciones dividiremos en función de si pertenece a la primera mitad del año o la segunda y para los splits en función de si son atropellos o no."
   ]
  },
  {
   "cell_type": "code",
   "execution_count": null,
   "id": "8843d850-384e-493e-994a-31230180c82a",
   "metadata": {
    "tags": []
   },
   "outputs": [],
   "source": [
    "hf_repo= \"dcdc-upm/fatal_traffic_accidents_in_the_city_of_madrid_2024\"\n",
    "\n",
    "\n",
    "fallecidos_df[\"fecha\"]= pd.to_datetime(fallecidos_df[\"fecha\"], format=\"%d/%m/%Y\")\n",
    "\n",
    "\n",
    "# Año completo\n",
    "\n",
    "data= Dataset.from_pandas(fallecidos_df, preserve_index=False)\n",
    "atropellados= Dataset.from_pandas(fallecidos_df[fallecidos_df[\"tipo_accidente\"].str.startswith(\"Atropello\")], preserve_index=False)\n",
    "otros= Dataset.from_pandas(fallecidos_df[~fallecidos_df[\"tipo_accidente\"].str.startswith(\"Atropello\")], preserve_index=False)\n",
    "\n",
    "data.push_to_hub(hf_repo, config_name=\"Full Year\", split=\"all\")\n",
    "atropellados.push_to_hub(hf_repo, config_name=\"Full Year\", split=\"atropellos\")\n",
    "otros.push_to_hub(hf_repo, config_name=\"Full Year\", split=\"otros\")\n",
    "\n",
    "\n",
    "# Filtrar primer semestre (mes <= 6)\n",
    "fallecidos_df_first_half = fallecidos_df[fallecidos_df[\"fecha\"].dt.month <= 6]\n",
    "\n",
    "data_first_half= Dataset.from_pandas(fallecidos_df_first_half, preserve_index=False)\n",
    "atropellados_first_half= Dataset.from_pandas(fallecidos_df_first_half[fallecidos_df_first_half[\"tipo_accidente\"].str.startswith(\"Atropello\")], preserve_index=False)\n",
    "otros_first_half= Dataset.from_pandas(fallecidos_df_first_half[~fallecidos_df_first_half[\"tipo_accidente\"].str.startswith(\"Atropello\")], preserve_index=False)\n",
    "\n",
    "data_first_half.push_to_hub(hf_repo, config_name=\"First Semester\", split=\"all\")\n",
    "atropellados_first_half.push_to_hub(hf_repo, config_name=\"First Semester\", split=\"atropellos\")\n",
    "otros_first_half.push_to_hub(hf_repo, config_name=\"First Semester\", split=\"otros\")\n",
    "\n",
    "# Filtrar segundo semestre (mes > 6)\n",
    "fallecidos_df_second_half = fallecidos_df[fallecidos_df[\"fecha\"].dt.month > 6]\n",
    "\n",
    "data_second_half= Dataset.from_pandas(fallecidos_df_second_half, preserve_index=False)\n",
    "atropellados_second_half= Dataset.from_pandas(fallecidos_df_second_half[fallecidos_df_second_half[\"tipo_accidente\"].str.startswith(\"Atropello\")], preserve_index=False)\n",
    "otros_second_half= Dataset.from_pandas(fallecidos_df_second_half[~fallecidos_df_second_half[\"tipo_accidente\"].str.startswith(\"Atropello\")], preserve_index=False)\n",
    "\n",
    "data_second_half.push_to_hub(hf_repo, config_name=\"Second Semester\", split=\"all\")\n",
    "atropellados_second_half.push_to_hub(hf_repo, config_name=\"Second Semester\", split=\"atropellos\")\n",
    "otros_second_half.push_to_hub(hf_repo, config_name=\"Second Semester\", split=\"otros\")\n",
    "\n"
   ]
  },
  {
   "cell_type": "markdown",
   "id": "3d99e3bc-e1e1-430f-95e1-427ad1680541",
   "metadata": {},
   "source": [
    "---"
   ]
  }
 ],
 "metadata": {
  "kernelspec": {
   "display_name": "Tutorial",
   "language": "python",
   "name": "tutorial"
  },
  "language_info": {
   "codemirror_mode": {
    "name": "ipython",
    "version": 3
   },
   "file_extension": ".py",
   "mimetype": "text/x-python",
   "name": "python",
   "nbconvert_exporter": "python",
   "pygments_lexer": "ipython3",
   "version": "3.13.5"
  }
 },
 "nbformat": 4,
 "nbformat_minor": 5
}
