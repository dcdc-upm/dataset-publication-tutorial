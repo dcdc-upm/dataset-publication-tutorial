{
 "cells": [
  {
   "cell_type": "markdown",
   "id": "1bccd201-90bc-4f06-bb52-9a6b92cf03fa",
   "metadata": {},
   "source": [
    "# Publicación de datos siguiendo buenas prácticas"
   ]
  },
  {
   "cell_type": "markdown",
   "id": "8cea1555-8b89-4379-9169-f7aa0a23c9ba",
   "metadata": {},
   "source": [
    "En este tutorial, exploraremos los principales pasos necesarios para publicar un conjunto de datos en acceso abierto. Utilizaremos un conjunto de datos existente, el cual transformaremos para su publicación en un repositorio digital. Además de aprender sobre el proceso de publicación, también abordaremos las buenas prácticas que deben seguirse durante todo el procedimiento. Esto incluye: la correcta documentación del recurso, la inclusión de metadatos adecuados y la publicación del código necesario para replicar los experimentos realizados.\n",
    "\n"
   ]
  },
  {
   "cell_type": "code",
   "execution_count": null,
   "id": "cb700434-6993-46fa-9476-7078ae217870",
   "metadata": {},
   "outputs": [],
   "source": []
  }
 ],
 "metadata": {
  "kernelspec": {
   "display_name": "Python (tutorial)",
   "language": "python",
   "name": "tutorial"
  },
  "language_info": {
   "codemirror_mode": {
    "name": "ipython",
    "version": 3
   },
   "file_extension": ".py",
   "mimetype": "text/x-python",
   "name": "python",
   "nbconvert_exporter": "python",
   "pygments_lexer": "ipython3",
   "version": "3.13.5"
  }
 },
 "nbformat": 4,
 "nbformat_minor": 5
}
